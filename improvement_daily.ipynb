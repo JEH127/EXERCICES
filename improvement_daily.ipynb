{
  "nbformat": 4,
  "nbformat_minor": 0,
  "metadata": {
    "colab": {
      "name": "improvement_daily.ipynb",
      "provenance": [],
      "collapsed_sections": [],
      "authorship_tag": "ABX9TyNB1M68I+IOszyr9Mk4BrV9",
      "include_colab_link": true
    },
    "kernelspec": {
      "name": "python3",
      "display_name": "Python 3"
    },
    "language_info": {
      "name": "python"
    }
  },
  "cells": [
    {
      "cell_type": "markdown",
      "metadata": {
        "id": "view-in-github",
        "colab_type": "text"
      },
      "source": [
        "<a href=\"https://colab.research.google.com/github/JEH127/EXERCICES/blob/master/improvement_daily.ipynb\" target=\"_parent\"><img src=\"https://colab.research.google.com/assets/colab-badge.svg\" alt=\"Open In Colab\"/></a>"
      ]
    },
    {
      "cell_type": "code",
      "execution_count": null,
      "metadata": {
        "colab": {
          "base_uri": "https://localhost:8080/"
        },
        "id": "SUqHp-xul6E5",
        "outputId": "7c50cac0-1501-4f59-d7ae-cc57f8b646e0"
      },
      "outputs": [
        {
          "output_type": "stream",
          "name": "stdout",
          "text": [
            " day 1  | improvement : 1.01\n",
            " day 2  | improvement : 1.0201\n",
            " day 3  | improvement : 1.030301\n",
            " day 4  | improvement : 1.04060401\n",
            " day 5  | improvement : 1.0510100501\n",
            " day 6  | improvement : 1.061520150601\n",
            " day 7  | improvement : 1.0721353521070098\n",
            " day 8  | improvement : 1.08285670562808\n",
            " day 9  | improvement : 1.0936852726843609\n",
            " day 10  | improvement : 1.1046221254112045\n"
          ]
        }
      ],
      "source": [
        "# improvement 1% daily\n",
        "\n",
        "def better(n):\n",
        "    # n : nb jour | <=> 1.01 ** n\n",
        "    if n <= 0:\n",
        "        return 'erreur'\n",
        "    elif n == 1:\n",
        "        return 1.01\n",
        "    else:\n",
        "        return 1.01 * better(n - 1)\n",
        "\n",
        "for i in range(1, 11):\n",
        "    print(f\" day {i}  | improvement : {better(i)}\")"
      ]
    },
    {
      "cell_type": "code",
      "source": [
        "# 1 year\n",
        "better(365)"
      ],
      "metadata": {
        "colab": {
          "base_uri": "https://localhost:8080/"
        },
        "id": "YEZAZ3SHn4Aj",
        "outputId": "774a3614-37de-4e86-ae7a-7cda532b5d99"
      },
      "execution_count": null,
      "outputs": [
        {
          "output_type": "execute_result",
          "data": {
            "text/plain": [
              "37.783434332887275"
            ]
          },
          "metadata": {},
          "execution_count": 8
        }
      ]
    }
  ]
}