{
  "nbformat": 4,
  "nbformat_minor": 0,
  "metadata": {
    "colab": {
      "name": "investir.ipynb",
      "provenance": [],
      "collapsed_sections": [],
      "authorship_tag": "ABX9TyOVJVM7auvAKl8vGPUBPps5",
      "include_colab_link": true
    },
    "kernelspec": {
      "name": "python3",
      "display_name": "Python 3"
    },
    "language_info": {
      "name": "python"
    }
  },
  "cells": [
    {
      "cell_type": "markdown",
      "metadata": {
        "id": "view-in-github",
        "colab_type": "text"
      },
      "source": [
        "<a href=\"https://colab.research.google.com/github/JEH127/EXERCICES/blob/master/investir.ipynb\" target=\"_parent\"><img src=\"https://colab.research.google.com/assets/colab-badge.svg\" alt=\"Open In Colab\"/></a>"
      ]
    },
    {
      "cell_type": "code",
      "execution_count": null,
      "metadata": {
        "id": "XEnYGR7coRlY"
      },
      "outputs": [],
      "source": [
        "def investir(n, montant):\n",
        "    # n : nombre annee\n",
        "    # montant : epargne par an\n",
        "\n",
        "    if n < 0:\n",
        "        return 'erreur'\n",
        "\n",
        "    elif n == 0:\n",
        "        return 0\n",
        "\n",
        "    else:\n",
        "        # epargne + 10% * epargne\n",
        "        return 1.1*(montant + investir(n - 1, montant))\n",
        "\n",
        "\n",
        "for n in range(31):\n",
        "    print(f\" investir({n}) =  {investir(n, 1200)}\")"
      ]
    }
  ]
}